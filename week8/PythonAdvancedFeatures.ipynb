{
 "cells": [
  {
   "cell_type": "markdown",
   "metadata": {},
   "source": [
    "# Python Functions"
   ]
  },
  {
   "cell_type": "code",
   "execution_count": null,
   "metadata": {},
   "outputs": [],
   "source": [
    "# return multiple values\n",
    "def foo():\n",
    "    a = 22\n",
    "    b = 44\n",
    "    c = 99\n",
    "    return a,b,c\n",
    "x,y,z = foo()\n",
    "print (x,y,z)"
   ]
  },
  {
   "cell_type": "code",
   "execution_count": null,
   "metadata": {},
   "outputs": [],
   "source": [
    "# pass functions to functions\n",
    "import re\n",
    "\n",
    "def test ():\n",
    "   print \"test was invoked\"\n",
    "\n",
    "def invoker(func):\n",
    "   func()\n",
    "\n",
    "invoker(test)  # prints test was invoked \n",
    "\n",
    "\n",
    "#some data that needs cleaning\n",
    "states = ['   TeXas','sOUth #caRolina  ', '  ?GEoRGIA', ' !Alabama!  ' ]\n",
    "\n",
    "def remove_punctuation(value):\n",
    "    return re.sub('[!?#]','',value)\n",
    "\n",
    "# a list of built in and user defined functions\n",
    "clean_ops = [str.strip, remove_punctuation, str.title]\n",
    "\n",
    "#apply our functions to the dirty data\n",
    "def clean_strings(strings, ops):\n",
    "    result = []\n",
    "    for value in strings:\n",
    "        for function in ops:\n",
    "            value = function(value)\n",
    "        result.append(value)\n",
    "    return result\n",
    "\n",
    "print (clean_strings(states, clean_ops) )\n"
   ]
  },
  {
   "cell_type": "markdown",
   "metadata": {},
   "source": [
    "# Usage of *args\n",
    "\n",
    "*args and **kwargs are mostly used in function definitions. *args and **kwargs allow you to pass a variable number of arguments to a function where variable means  you do not know beforehand how many arguments will be passed to your function by the user.\n",
    "*args is used to send a non-keyworded variable length argument list to the function. \n",
    "Example:"
   ]
  },
  {
   "cell_type": "code",
   "execution_count": null,
   "metadata": {},
   "outputs": [],
   "source": [
    "def test_var_args(f_arg, *argv):\n",
    "    print(\"first normal arg:\", f_arg)\n",
    "    for arg in argv:\n",
    "        print(\"another arg through *argv:\", arg)\n",
    "\n",
    "test_var_args('zorro', 'python', 'eggs', 'ham')"
   ]
  },
  {
   "cell_type": "markdown",
   "metadata": {},
   "source": [
    "# Usage of **kwargs\n",
    "**kwargs allows you to pass keyworded variable length of arguments to a function. You should use **kwargs if you want to handle named arguments in a function. "
   ]
  },
  {
   "cell_type": "code",
   "execution_count": null,
   "metadata": {},
   "outputs": [],
   "source": [
    "def foo(**kwargs):\n",
    "    for key, value in kwargs.items():\n",
    "        print(\"{0} = {1}\".format(key, value))\n",
    "\n",
    "foo(name=\"rollo\", age=22)\n"
   ]
  },
  {
   "cell_type": "markdown",
   "metadata": {},
   "source": [
    "# List comprehension\n",
    "- provides a concise way to create lists. \n",
    "\n",
    "It consists of brackets containing an expression followed by a for clause, then\n",
    "zero or more for or if clauses. The expressions can be anything, meaning you can\n",
    "put in all kinds of objects in lists.\n",
    "\n",
    "new_list = [expression(i) for i in old_list if filter(i)]\n",
    "\n",
    "# You can either use loops:\n",
    "squares = []\n",
    "\n",
    "for x in range(10):\n",
    "    squares.append(x**2)\n",
    " \n",
    "print squares\n",
    "[0, 1, 4, 9, 16, 25, 36, 49, 64, 81]\n",
    "\n",
    "# Or you can use list comprehensions to get the same result:\n",
    "squares = [x**2 for x in range(10)]\n",
    "\n",
    "print squares\n",
    "[0, 1, 4, 9, 16, 25, 36, 49, 64, 81]\n",
    "\n"
   ]
  },
  {
   "cell_type": "markdown",
   "metadata": {},
   "source": [
    "# lambda - anonymous functions"
   ]
  },
  {
   "cell_type": "code",
   "execution_count": null,
   "metadata": {},
   "outputs": [],
   "source": [
    "def add(x, y): \n",
    "    return x + y\n",
    "  \n",
    "# Call the function\n",
    "z = add(2, 3) \n",
    "\n",
    "print (z)\n",
    "\n",
    "# convert the above function into a lambda function\n",
    "# here lambda returns a function object which we assign to a variable\n",
    "add = lambda x, y : x + y \n",
    "  \n",
    "print ( add(2, 3)  )"
   ]
  },
  {
   "cell_type": "code",
   "execution_count": null,
   "metadata": {},
   "outputs": [],
   "source": [
    "# Mostly lambda functions are passed as parameters to a function which expects a \n",
    "# function objects as parameter like map, reduce, filter functions\n",
    "def multiply2(x):\n",
    "  return x * 2\n",
    "    \n",
    "map(multiply2, [1, 2, 3, 4])  # Output [2, 4, 6, 8]\n",
    "\n",
    "# now as a lambda\n",
    "map(lambda x : x*2, [1, 2, 3, 4]) #Output [2, 4, 6, 8]\n",
    "\n"
   ]
  },
  {
   "cell_type": "markdown",
   "metadata": {},
   "source": [
    "# Iterating over a dictionary using map and lambda"
   ]
  },
  {
   "cell_type": "code",
   "execution_count": 1,
   "metadata": {},
   "outputs": [
    {
     "name": "stdout",
     "output_type": "stream",
     "text": [
      "<map object at 0x10eae5f98>\n",
      "<map object at 0x10eaeb0b8>\n",
      "<map object at 0x10eaeb128>\n",
      "<map object at 0x10ea0bba8>\n",
      "[2, 4, 6, 8]\n"
     ]
    }
   ],
   "source": [
    "dict_a = [{'name': 'python', 'points': 10}, {'name': 'java', 'points': 8}]\n",
    "  \n",
    "list1 = map(lambda x : x['name'], dict_a) \n",
    "print (list1)\n",
    "  \n",
    "list2 = map(lambda x : x['points']*10,  dict_a) # Output: [100, 80]\n",
    "print (list2)\n",
    "\n",
    "list3 = map(lambda x : x['name'] == \"python\", dict_a)\n",
    "print (list3)\n",
    "# Output: [True, False]\n",
    "\n",
    "\n",
    "# Python3 - map returns a map object which is iterable\n",
    "map_output = map(lambda x: x*2, [1, 2, 3, 4])\n",
    "print(map_output) # Output: map object: <map object at 0x04D6BAB0>\n",
    "\n",
    "list_map_output = list(map_output)\n",
    "\n",
    "print(list_map_output) # Output: [2, 4, 6, 8]"
   ]
  },
  {
   "cell_type": "code",
   "execution_count": 2,
   "metadata": {},
   "outputs": [
    {
     "name": "stdout",
     "output_type": "stream",
     "text": [
      "3.7.0 (v3.7.0:1bf9cc5093, Jun 26 2018, 23:26:24) \n",
      "[Clang 6.0 (clang-600.0.57)]\n"
     ]
    }
   ],
   "source": [
    "import sys\n",
    "print(sys.version)"
   ]
  },
  {
   "cell_type": "markdown",
   "metadata": {},
   "source": [
    "# filter (function_object, iterable)\n",
    "- expects two arguments, function_object and an iterable. \n",
    "- function_object returns a boolean value. function_object is called for each element of the iterable \n",
    "- and filter returns only those element for which the function_object returns true."
   ]
  },
  {
   "cell_type": "code",
   "execution_count": 3,
   "metadata": {},
   "outputs": [
    {
     "name": "stdout",
     "output_type": "stream",
     "text": [
      "[2, 4]\n",
      "[False, True, False, True, False]\n"
     ]
    }
   ],
   "source": [
    "# filter\n",
    "list_a = [1, 2, 3, 4, 5]\n",
    "\n",
    "filter_obj = filter(lambda x: x % 2 == 0, list_a) # filter object <filter at 0x4e45890>\n",
    "\n",
    "even_num = list(filter_obj) # Converts the filer obj to a list\n",
    "\n",
    "print(even_num) # Output: [2, 4]\n",
    "\n",
    "map_obj = map(lambda x: x%2==0, list_a)\n",
    "even_num = list(map_obj)\n",
    "print(even_num)"
   ]
  },
  {
   "cell_type": "markdown",
   "metadata": {},
   "source": [
    "# zip(iterable1, iterable2, ...)\n",
    "-zip takes n iterables and returns a list of tuples\n",
    "- ith element of the tuple is created using the ith element from each of the iterables.\n",
    "- Python3; zip returns a zip object (that is iterable)"
   ]
  },
  {
   "cell_type": "code",
   "execution_count": 6,
   "metadata": {},
   "outputs": [
    {
     "name": "stdout",
     "output_type": "stream",
     "text": [
      "<zip object at 0x10eac1f48>\n",
      "[(1, 'a'), (2, 'b'), (3, 'c'), (4, 'd'), (5, 'e')]\n"
     ]
    }
   ],
   "source": [
    "list_a = [1, 2, 3, 4, 5]\n",
    "list_b = ['a', 'b', 'c', 'd', 'e']\n",
    "\n",
    "# It doesn't matter these two arrays amount not match\n",
    "zipped_list = zip(list_a, list_b)\n",
    "\n",
    "print (zipped_list)  \n",
    "\n",
    "print (list(zipped_list))"
   ]
  },
  {
   "cell_type": "markdown",
   "metadata": {},
   "source": [
    "In Python, iterable and iterator have specific meanings.\n",
    "\n",
    "An iterable is an object that has an __iter__ method which returns an iterator, or which defines a __getitem__ method that can take sequential indexes starting from zero (and raises an IndexError when the indexes are no longer valid). So an iterable is an object that you can get an iterator from.\n",
    "\n",
    "An iterator is an object with a next (Python 2) or __next__ (Python 3) method.\n",
    "\n",
    "Whenever you use a for loop, or map, or a list comprehension, etc. in Python, the next method is called automatically to get each item from the iterator, thus going through the process of iteration."
   ]
  },
  {
   "cell_type": "code",
   "execution_count": null,
   "metadata": {},
   "outputs": [],
   "source": [
    "s = 'cat'      # s is an ITERABLE\n",
    "               # s has a __getitem__() method \n",
    "\n",
    "t = iter(s)    # t is an ITERATOR\n",
    "               # t has state (it starts by pointing at the \"c\"\n",
    "               # t has a next() method and an __iter__() method\n",
    "\n",
    "next(t)       \n",
    "next(t)      \n",
    "next(t)      \n",
    "next(t)   # nothing left - throws StopIteration Exception     "
   ]
  },
  {
   "cell_type": "markdown",
   "metadata": {},
   "source": [
    "# Building Your Own Iterator in Python\n",
    "Building an iterator from scratch is easy in Python. We just have to implement the methods __iter__() and __next__().\n",
    "The __iter__() method returns the iterator object itself. If required, some initialization can be performed.\n",
    "The __next__() method must return the next item in the sequence. On reaching the end, and in subsequent calls, it must raise StopIteration\n"
   ]
  },
  {
   "cell_type": "code",
   "execution_count": null,
   "metadata": {},
   "outputs": [],
   "source": [
    "class PowTwo:\n",
    "    def __init__(self, max=0):\n",
    "        self.max = max\n",
    "        \n",
    "    def __iter__(self):\n",
    "        self.n = 0  #upon creation we set counter and return instance (self)\n",
    "        return self\n",
    "    \n",
    "    def __next__(self):\n",
    "        if self.n <= self.max:\n",
    "            result = 2 ** self.n\n",
    "            self.n += 1\n",
    "            return result\n",
    "        else:\n",
    "            raise StopIteration\n",
    "            \n",
    "c1 = PowTwo(5)\n",
    "for k in c1:\n",
    "    print (k)"
   ]
  },
  {
   "cell_type": "markdown",
   "metadata": {},
   "source": [
    "# Generators\n",
    "There is a lot of overhead in building an iterator in Python; we have to implement a class with __iter__() and __next__() method, keep track of internal states, raise StopIteration when there was no values to be returned etc.\n",
    "This is both lengthy and counter intuitive. Generator comes into rescue in such situations.\n",
    "Python generators are a simple way of creating iterators. All the overhead we mentioned above are automatically handled by generators in Python.\n",
    "Simply speaking, a generator is a function that returns an object (iterator) which we can iterate over (one value at a time).\n",
    "\n",
    "Here is how a generator function differs from a normal function.\n",
    "•\tGenerator function contains one or more yield statement.\n",
    "•\tWhen called, it returns an object (iterator) but does not start execution immediately.\n",
    "•\tMethods like __iter__() and __next__() are implemented automatically. So we can iterate through the items using next().\n",
    "•\tOnce the function yields, the function is paused and the control is transferred to the caller.\n",
    "•\tLocal variables and their states are remembered between successive calls.\n",
    "•\tFinally, when the function terminates, StopIteration is raised automatically on further calls.\n",
    "\n"
   ]
  },
  {
   "cell_type": "code",
   "execution_count": 12,
   "metadata": {
    "scrolled": true
   },
   "outputs": [
    {
     "name": "stdout",
     "output_type": "stream",
     "text": [
      "I am first\n",
      "1\n",
      "me second\n",
      "2\n",
      "me third\n",
      "3\n"
     ]
    },
    {
     "ename": "StopIteration",
     "evalue": "",
     "output_type": "error",
     "traceback": [
      "\u001b[0;31m---------------------------------------------------------------------------\u001b[0m",
      "\u001b[0;31mStopIteration\u001b[0m                             Traceback (most recent call last)",
      "\u001b[0;32m<ipython-input-12-f37362f89ddd>\u001b[0m in \u001b[0;36m<module>\u001b[0;34m()\u001b[0m\n\u001b[1;32m     17\u001b[0m \u001b[0mprint\u001b[0m \u001b[0;34m(\u001b[0m\u001b[0mnext\u001b[0m\u001b[0;34m(\u001b[0m\u001b[0mgen1\u001b[0m\u001b[0;34m)\u001b[0m\u001b[0;34m)\u001b[0m\u001b[0;34m\u001b[0m\u001b[0m\n\u001b[1;32m     18\u001b[0m \u001b[0mprint\u001b[0m \u001b[0;34m(\u001b[0m\u001b[0mnext\u001b[0m\u001b[0;34m(\u001b[0m\u001b[0mgen1\u001b[0m\u001b[0;34m)\u001b[0m\u001b[0;34m)\u001b[0m\u001b[0;34m\u001b[0m\u001b[0m\n\u001b[0;32m---> 19\u001b[0;31m \u001b[0mprint\u001b[0m \u001b[0;34m(\u001b[0m\u001b[0mnext\u001b[0m\u001b[0;34m(\u001b[0m\u001b[0mgen1\u001b[0m\u001b[0;34m)\u001b[0m\u001b[0;34m)\u001b[0m\u001b[0;34m\u001b[0m\u001b[0m\n\u001b[0m",
      "\u001b[0;31mStopIteration\u001b[0m: "
     ]
    }
   ],
   "source": [
    "def my_gen():\n",
    "    n = 1\n",
    "    print (\"I am first\")\n",
    "    yield n\n",
    "    \n",
    "    n += 1\n",
    "    print (\"me second\")\n",
    "    yield n\n",
    "    \n",
    "    n += 1\n",
    "    print (\"me third\")\n",
    "    yield n\n",
    "    \n",
    "gen1 = my_gen()\n",
    "\n",
    "print (next(gen1))\n",
    "print (next(gen1))\n",
    "print (next(gen1))\n",
    "print (next(gen1))\n"
   ]
  },
  {
   "cell_type": "code",
   "execution_count": null,
   "metadata": {},
   "outputs": [],
   "source": [
    "gen2 = my_gen()\n",
    "for k in gen2:\n",
    "    print (k)\n",
    "    "
   ]
  },
  {
   "cell_type": "markdown",
   "metadata": {},
   "source": [
    "# Generator  Comprehension\n",
    "The syntax for generator expression is similar to that of a list comprehension in Python. But the square brackets are replaced with round parentheses.\n",
    "The major difference between a list comprehension and a generator expression is that while list comprehension produces the entire list, generator expression produces one item at a time.\n",
    "They are kind of lazy, producing items only when asked for. For this reason, a generator expression is much more memory efficient than an equivalent list comprehension.\n"
   ]
  },
  {
   "cell_type": "code",
   "execution_count": 8,
   "metadata": {},
   "outputs": [
    {
     "name": "stdout",
     "output_type": "stream",
     "text": [
      "[1, 9, 36, 100]\n",
      "<generator object <genexpr> at 0x10eae0408>\n",
      "1\n",
      "[9, 36, 100]\n",
      "[1, 9, 36, 100]\n"
     ]
    }
   ],
   "source": [
    "my_list = [1,3,6,10]\n",
    "\n",
    "#square brackets -  list comprehension \n",
    "list1 = [x**2 for x in my_list]\n",
    "print (list1)\n",
    "\n",
    "#round braces for a LAZY generator comprehension\n",
    "zz = (x**2 for x in my_list)\n",
    "\n",
    "print (zz)  #zz is a generator object\n",
    "\n",
    "print (next(zz))\n",
    "\n",
    "print (list(zz))  #here we get was is left of our generator\n",
    "\n",
    "##\n",
    "lazy = (x**2 for x in my_list)\n",
    "\n",
    "print(list(lazy))\n"
   ]
  },
  {
   "cell_type": "markdown",
   "metadata": {},
   "source": [
    "\n",
    "# reduce() in Python\n",
    "\n",
    "The reduce(fun,seq) function is used to apply a particular function passed in its argument to all of the list elements mentioned in the sequence passed along.This function is defined in “functools” module.\n",
    "\n",
    "Working : \n",
    "- At first step, first two elements of sequence are picked and the result is obtained.\n",
    "- Next step is to apply the same function to the previously attained result and the number just succeeding the second element and the result is again stored.\n",
    "- This process continues till no more elements are left in the container.\n",
    "- The final returned result is returned and printed on console.\n"
   ]
  },
  {
   "cell_type": "code",
   "execution_count": 9,
   "metadata": {},
   "outputs": [
    {
     "name": "stdout",
     "output_type": "stream",
     "text": [
      "The sum of the list elements is : 17\n",
      "The maximum element of the list is : 6\n"
     ]
    }
   ],
   "source": [
    "# importing functools for reduce() \n",
    "import functools \n",
    "  \n",
    "# initializing list \n",
    "lis = [ 1 , 3, 5, 6, 2, ] \n",
    "  \n",
    "# using reduce to compute sum of list\n",
    "# note: end=\"\"  means end the line with a space not with a newline\n",
    "print (\"The sum of the list elements is : \",end=\"\") \n",
    "print (functools.reduce(lambda a,b : a+b,lis)) \n",
    "  \n",
    "# using reduce to compute maximum element from list \n",
    "print (\"The maximum element of the list is : \",end=\"\") \n",
    "print (functools.reduce(lambda a,b : a if a > b else b,lis)) "
   ]
  },
  {
   "cell_type": "markdown",
   "metadata": {},
   "source": [
    "# Using Operator Functions\n",
    "\n",
    "reduce() can also be combined with operator functions to achieve the similar functionality as with lambda functions and makes the code more readable."
   ]
  },
  {
   "cell_type": "code",
   "execution_count": 10,
   "metadata": {},
   "outputs": [
    {
     "name": "stdout",
     "output_type": "stream",
     "text": [
      "The sum of the list elements is : 18\n",
      "The product of list elements is : 360\n",
      "Exponentiation with list elements is : 1532495540865888858358347027150309183618739122183602176\n",
      "The concatenated product is : geeksforgeeks\n"
     ]
    }
   ],
   "source": [
    "# importing functools for reduce() \n",
    "import functools \n",
    "  \n",
    "# importing operator for operator functions \n",
    "import operator \n",
    "  \n",
    "# initializing list \n",
    "lis = [ 2 , 3, 5, 6, 2, ] \n",
    "  \n",
    "# using reduce to compute sum of list \n",
    "# using operator functions \n",
    "print (\"The sum of the list elements is : \",end=\"\") \n",
    "print (functools.reduce(operator.add,lis)) \n",
    "  \n",
    "# using reduce to compute product \n",
    "# using operator functions \n",
    "print (\"The product of list elements is : \",end=\"\") \n",
    "print (functools.reduce(operator.mul,lis)) \n",
    "\n",
    "# go wild with exponentiation\n",
    "print (\"Exponentiation with list elements is : \",end=\"\") \n",
    "print (functools.reduce(operator.pow,lis)) \n",
    "\n",
    "# using reduce to concatenate string \n",
    "print (\"The concatenated product is : \",end=\"\") \n",
    "print (functools.reduce(operator.concat,[\"geeks\",\"for\",\"geeks\"])) "
   ]
  },
  {
   "cell_type": "markdown",
   "metadata": {},
   "source": [
    "# itertools\n",
    "A library of generator functions for a variety of algorithms\n",
    "See: http://blog.pythonlibrary.org for good overview of itertools package"
   ]
  },
  {
   "cell_type": "markdown",
   "metadata": {},
   "source": [
    "# itertools : groupby\n",
    "Takes a sequence and a function and groups consecutive elements in the sequence by the return value of the function\n",
    "- returns the groupby item and an iterator that can be used to iterate over subcollection"
   ]
  },
  {
   "cell_type": "code",
   "execution_count": 11,
   "metadata": {},
   "outputs": [
    {
     "name": "stdout",
     "output_type": "stream",
     "text": [
      "A ['Adam', 'Algorithm']\n",
      "C ['Carrier', 'Colon']\n",
      "z ['zorro', 'zebra']\n",
      "A ['Alice']\n",
      "['Adam', 'Algorithm', 'Alice', 'Carrier', 'Colon', 'zebra', 'zorro']\n",
      "A ['Adam', 'Algorithm', 'Alice']\n",
      "C ['Carrier', 'Colon']\n",
      "z ['zebra', 'zorro']\n"
     ]
    }
   ],
   "source": [
    "import itertools\n",
    "#function to reeturn the first element of a sequence (string or list or ..)\n",
    "first_letter = lambda x: x[0]\n",
    "\n",
    "mynames = ['Adam', 'Algorithm', 'Carrier', 'Colon', 'zorro', 'zebra', 'Alice']\n",
    "for letter, names in itertools.groupby(mynames, first_letter):\n",
    "    print (letter, list(names))  #names is a generator\n",
    "\n",
    "#sort     \n",
    "mynames = ['Adam', 'Algorithm', 'Carrier', 'Colon', 'zorro', 'zebra', 'Alice']\n",
    "mynames.sort()  #in place sorting\n",
    "print (mynames)\n",
    "\n",
    "\n",
    "for letter, names in itertools.groupby(mynames, first_letter):\n",
    "    print (letter, list(names))  #names is a generator\n",
    "   "
   ]
  },
  {
   "cell_type": "markdown",
   "metadata": {},
   "source": [
    "# itertools : count(start_value)\n",
    "- returns an iterator that begins at start_value and goes forever\n"
   ]
  },
  {
   "cell_type": "code",
   "execution_count": 13,
   "metadata": {},
   "outputs": [
    {
     "name": "stdout",
     "output_type": "stream",
     "text": [
      "10\n",
      "11\n",
      "12\n"
     ]
    }
   ],
   "source": [
    "from itertools import count\n",
    "\n",
    "#create infinite iterator\n",
    "myiter = count(10)\n",
    "\n",
    "#use it\n",
    "print (next(myiter))\n",
    "print (next(myiter))\n",
    "print (next(myiter))\n"
   ]
  },
  {
   "cell_type": "markdown",
   "metadata": {},
   "source": [
    "# itertools :  islice\n",
    "- limit count with islice\n",
    "- returns an iterator\n",
    "- islice(iterator, number of values)\n",
    "- allows us to give an end point to the infinite iterator"
   ]
  },
  {
   "cell_type": "code",
   "execution_count": 14,
   "metadata": {},
   "outputs": [
    {
     "name": "stdout",
     "output_type": "stream",
     "text": [
      "100\n",
      "101\n",
      "102\n",
      "103\n",
      "104\n"
     ]
    }
   ],
   "source": [
    "from itertools import islice\n",
    "for i in islice( count(100), 5):\n",
    "    print (i)"
   ]
  },
  {
   "cell_type": "markdown",
   "metadata": {},
   "source": [
    "# itertools : cycle\n",
    "- cycle(iterable)  - cycles through an iterable series infinitely"
   ]
  },
  {
   "cell_type": "code",
   "execution_count": 15,
   "metadata": {},
   "outputs": [
    {
     "name": "stdout",
     "output_type": "stream",
     "text": [
      "X\n",
      "Y\n",
      "Z\n",
      "X\n",
      "Y\n",
      "Z\n",
      "X\n",
      "Y\n"
     ]
    }
   ],
   "source": [
    "from itertools import cycle\n",
    "\n",
    "myiter = cycle('XYZ')\n",
    "for i in range(8):\n",
    "    print (next(myiter))"
   ]
  },
  {
   "cell_type": "markdown",
   "metadata": {},
   "source": [
    "# itertools : dropwhile (predicate, iterable)\n",
    "- will drop elements as long as the predicate is true"
   ]
  },
  {
   "cell_type": "code",
   "execution_count": 16,
   "metadata": {},
   "outputs": [
    {
     "name": "stdout",
     "output_type": "stream",
     "text": [
      "6\n",
      "4\n",
      "1\n"
     ]
    }
   ],
   "source": [
    "from itertools import dropwhile\n",
    "\n",
    "myiter = dropwhile(lambda x: x< 5, [1,4,6,4,1])\n",
    "for i in myiter:\n",
    "    print(i)"
   ]
  },
  {
   "cell_type": "code",
   "execution_count": 18,
   "metadata": {},
   "outputs": [
    {
     "name": "stdout",
     "output_type": "stream",
     "text": [
      "1\n",
      "4\n"
     ]
    }
   ],
   "source": [
    "from itertools import takewhile\n",
    "\n",
    "myiter = takewhile(lambda x: x< 5, [1,4,6,4,1])\n",
    "for i in myiter:\n",
    "    print(i)"
   ]
  },
  {
   "cell_type": "code",
   "execution_count": null,
   "metadata": {},
   "outputs": [],
   "source": []
  },
  {
   "cell_type": "code",
   "execution_count": null,
   "metadata": {},
   "outputs": [],
   "source": []
  },
  {
   "cell_type": "markdown",
   "metadata": {},
   "source": [
    "# Statistics : correlation\n",
    "### pearsonr (list1, list2)\n",
    "#### returns a tuple (corr_value, p_value)\n",
    "-correlation value range (-1, 1)\n",
    "- 1 means perfect correlation\n",
    "- -1 means inversely correlated\n",
    "- 0 means no correlation\n",
    "- p_value: <= .01 means there is a linear relation\n",
    "- p_value: > .01 means there is no liinear correlation and the correlation value should be ignored since the relation is non-linear"
   ]
  },
  {
   "cell_type": "code",
   "execution_count": 21,
   "metadata": {},
   "outputs": [
    {
     "name": "stdout",
     "output_type": "stream",
     "text": [
      "correlation = 1 and p_value = 0\n",
      "-1.0 0.0\n",
      "[2, 12, 4, 10, 5, 12, 4]\n",
      "0.12848904218751167 0.7836663589301511\n",
      "1.0 0.0\n"
     ]
    }
   ],
   "source": [
    "from scipy.stats import pearsonr\n",
    "import random as rnd\n",
    "\n",
    "list1 = [2,4,6,8,10,12,14]\n",
    "list2 = [2,4,6,8,10,12,14]\n",
    "corr, p_value = pearsonr(list1, list2)\n",
    "print (\"correlation = %d and p_value = %d\" % (corr, p_value) )\n",
    "\n",
    "# try inverse\n",
    "list3 = [14,12,10,8,6,4,2]\n",
    "corr, p_value = pearsonr(list1, list3)\n",
    "print (corr, p_value) \n",
    "\n",
    "list4 = [2,12,4,10,5,12,4]\n",
    "print (list4)\n",
    "\n",
    "corr, p_value = pearsonr(list1, list4)\n",
    "print (corr, p_value) \n",
    "\n",
    "list5 = [40,60,80,100,120,140,160]\n",
    "corr, p_value = pearsonr(list1, list5)\n",
    "print (corr, p_value) \n"
   ]
  },
  {
   "cell_type": "code",
   "execution_count": null,
   "metadata": {},
   "outputs": [],
   "source": []
  }
 ],
 "metadata": {
  "kernelspec": {
   "display_name": "Python 3",
   "language": "python",
   "name": "python3"
  },
  "language_info": {
   "codemirror_mode": {
    "name": "ipython",
    "version": 3
   },
   "file_extension": ".py",
   "mimetype": "text/x-python",
   "name": "python",
   "nbconvert_exporter": "python",
   "pygments_lexer": "ipython3",
   "version": "3.7.0"
  }
 },
 "nbformat": 4,
 "nbformat_minor": 2
}
